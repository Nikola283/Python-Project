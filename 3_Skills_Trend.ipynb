{
 "cells": [
  {
   "cell_type": "markdown",
   "id": "54c518fa",
   "metadata": {},
   "source": [
    "# How are in-demand skills trending for Data Analysts?"
   ]
  },
  {
   "cell_type": "markdown",
   "id": "f7388ea5",
   "metadata": {},
   "source": [
    "### Methology\n",
    "\n",
    "1. Aggregate skill counts monthly\n",
    "2. Re-analyze based on percentage of total jobs\n",
    "3. Plot the monthly skill demand\n"
   ]
  },
  {
   "cell_type": "markdown",
   "id": "ddc18b51",
   "metadata": {},
   "source": [
    "## Import Libraries and Data"
   ]
  },
  {
   "cell_type": "code",
   "execution_count": 1,
   "id": "e3cec39c",
   "metadata": {},
   "outputs": [],
   "source": [
    "# Importing Libraries\n",
    "import ast\n",
    "import pandas as pd\n",
    "import seaborn as sns\n",
    "from datasets import load_dataset\n",
    "import matplotlib.pyplot as plt  \n",
    "\n",
    "# Loading Data\n",
    "dataset = load_dataset('lukebarousse/data_jobs')\n",
    "df = dataset['train'].to_pandas()\n",
    "\n",
    "# Data Cleanup\n",
    "df['job_posted_date'] = pd.to_datetime(df['job_posted_date'])\n",
    "df['job_skills'] = df['job_skills'].apply(lambda x: ast.literal_eval(x) if pd.notna(x) else x)"
   ]
  },
  {
   "cell_type": "markdown",
   "id": "3b691ec8",
   "metadata": {},
   "source": [
    "## Group the Skills by Month"
   ]
  },
  {
   "cell_type": "markdown",
   "id": "2ac72834",
   "metadata": {},
   "source": [
    "Select only those job postings that are for Data Analysts and the job country is the United States. Then extract the month from each job's posting date to see when jobs are listed. Next, converts a column that lists skills into a usable list format. Finally, it rearranges the data so that each skill from the list gets its own row."
   ]
  },
  {
   "cell_type": "code",
   "execution_count": null,
   "id": "f3b2e312",
   "metadata": {},
   "outputs": [],
   "source": []
  },
  {
   "cell_type": "markdown",
   "id": "5859afc0",
   "metadata": {},
   "source": [
    "### Pivot in Prep for Plotting"
   ]
  },
  {
   "cell_type": "markdown",
   "id": "2933f965",
   "metadata": {},
   "source": [
    "Create a pivot table from the df_DA_US_explode, setting 'month' as the index, job_skills as the columns, and fills missing entries with zero."
   ]
  },
  {
   "cell_type": "code",
   "execution_count": null,
   "id": "a69ef599",
   "metadata": {},
   "outputs": [],
   "source": []
  },
  {
   "cell_type": "markdown",
   "id": "52cdaf67",
   "metadata": {},
   "source": [
    "### Sort columns by count and change month numbers to names"
   ]
  },
  {
   "cell_type": "markdown",
   "id": "01e4bae5",
   "metadata": {},
   "source": [
    "It adds a new row labeled Total that sums up counts across all months for each skill. Finally, it reorders the columns based on the total counts, displaying them from highest to lowest, and shows the updated pivot table."
   ]
  },
  {
   "cell_type": "code",
   "execution_count": null,
   "id": "152c79a1",
   "metadata": {},
   "outputs": [],
   "source": []
  },
  {
   "cell_type": "markdown",
   "id": "60022ed3",
   "metadata": {},
   "source": [
    "## Plot the Monthly Skill Counts"
   ]
  },
  {
   "cell_type": "markdown",
   "id": "e755c695",
   "metadata": {},
   "source": [
    "Plot a line chart of the top 5 skills for data analysts, indexed by month. It selects the first five columns and plots them."
   ]
  },
  {
   "cell_type": "code",
   "execution_count": null,
   "id": "41fc61c0",
   "metadata": {},
   "outputs": [],
   "source": []
  },
  {
   "cell_type": "markdown",
   "id": "5e2f20ea",
   "metadata": {},
   "source": [
    "This is good but totals can be misleading without context. Percentages clarify relationships within the whole, giving a more accurate comparison."
   ]
  },
  {
   "cell_type": "markdown",
   "id": "0035b99d",
   "metadata": {},
   "source": [
    "## Calculate Percentage of Total Jobs"
   ]
  },
  {
   "cell_type": "markdown",
   "id": "95169f76",
   "metadata": {},
   "source": [
    "Calculates the total number of entries for each month in df_DA by grouping the data by 'month' and counting the number of occurrences in each group, storing the results in DA_totals. This is needed to compute the percentages."
   ]
  },
  {
   "cell_type": "code",
   "execution_count": null,
   "id": "a5688db6",
   "metadata": {},
   "outputs": [],
   "source": []
  },
  {
   "cell_type": "markdown",
   "id": "5db92a28",
   "metadata": {},
   "source": [
    "This code calculates the percentage of each skill's occurrence for each month by dividing the first 12 rows of the df_DA_pivot DataFrame, which contains skill counts, by the monthly totals in DA_totals and multiplying by 100. The new DataFrame, df_DA_pivot_percent, shows skill distributions as percentages of total monthly job entries."
   ]
  },
  {
   "cell_type": "markdown",
   "id": "5aa42856",
   "metadata": {},
   "source": [
    "## Plot Monthly Skill Demand"
   ]
  },
  {
   "cell_type": "markdown",
   "id": "4c0b5f20",
   "metadata": {},
   "source": [
    "Creates a line plot for the top five skills of data analysts, shown as percentages of the total job entries per month, using the first 5 columns of the df_DA_pivot_percent DataFrame. Also the legend is moved outside of the plot for readability."
   ]
  },
  {
   "cell_type": "code",
   "execution_count": null,
   "id": "f2aa7f30",
   "metadata": {},
   "outputs": [],
   "source": []
  }
 ],
 "metadata": {
  "kernelspec": {
   "display_name": "python_project",
   "language": "python",
   "name": "python3"
  },
  "language_info": {
   "codemirror_mode": {
    "name": "ipython",
    "version": 3
   },
   "file_extension": ".py",
   "mimetype": "text/x-python",
   "name": "python",
   "nbconvert_exporter": "python",
   "pygments_lexer": "ipython3",
   "version": "3.13.5"
  }
 },
 "nbformat": 4,
 "nbformat_minor": 5
}
