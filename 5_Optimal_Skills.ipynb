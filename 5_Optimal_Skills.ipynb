{
 "cells": [
  {
   "cell_type": "markdown",
   "id": "4fb71137",
   "metadata": {},
   "source": [
    "# What is the most optimal skill to learn for Data Analysts?\n"
   ]
  },
  {
   "cell_type": "markdown",
   "id": "a2ad5078",
   "metadata": {},
   "source": [
    "### Methodology\n",
    "\n",
    "1. Continue from last notebook to find percent of postings with skill\n",
    "2. Visualize median salary vs percent skill demand\n",
    "3. (Optional) Determine if certain technologies are more prevalent\n"
   ]
  },
  {
   "cell_type": "markdown",
   "id": "3f812b7b",
   "metadata": {},
   "source": [
    "## Import Libraries and Data\n"
   ]
  },
  {
   "cell_type": "markdown",
   "id": "a970cfca",
   "metadata": {},
   "source": [
    "Import the libraries, data and change the job_posted_date to a datetime type."
   ]
  },
  {
   "cell_type": "code",
   "execution_count": 1,
   "id": "c959ddc2",
   "metadata": {},
   "outputs": [],
   "source": [
    "# Importing Libraries\n",
    "import ast\n",
    "import pandas as pd\n",
    "import seaborn as sns\n",
    "from datasets import load_dataset\n",
    "import matplotlib.pyplot as plt  \n",
    "\n",
    "# Loading Data\n",
    "dataset = load_dataset('lukebarousse/data_jobs')\n",
    "df = dataset['train'].to_pandas()\n",
    "\n",
    "# Data Cleanup\n",
    "df['job_posted_date'] = pd.to_datetime(df['job_posted_date'])\n",
    "df['job_skills'] = df['job_skills'].apply(lambda x: ast.literal_eval(x) if pd.notna(x) else x)"
   ]
  },
  {
   "cell_type": "markdown",
   "id": "116d760b",
   "metadata": {},
   "source": [
    "## Clean Data"
   ]
  },
  {
   "cell_type": "markdown",
   "id": "75014c86",
   "metadata": {},
   "source": [
    "Filters the original dataset to only get rows where the job title is 'Data Analyst' and the country is 'United States', to create a new DataFrame df_DA_US. Drop NaN values from the 'salary_year_avg' column. Then it uses the explode method on the job_skills column to create a new row in a new DataFrame (df_DA_US_exploded) for each skill associated with a job. Finally, it displays the first 5 entries of the salary_year_avg and job_skills columns."
   ]
  },
  {
   "cell_type": "code",
   "execution_count": null,
   "id": "8a46e113",
   "metadata": {},
   "outputs": [],
   "source": []
  },
  {
   "cell_type": "markdown",
   "id": "e570a0ac",
   "metadata": {},
   "source": [
    "## Calculate Percent of Job Postings that Have Skills\n"
   ]
  },
  {
   "cell_type": "markdown",
   "id": "f5c129be",
   "metadata": {},
   "source": [
    "Group the data by job skills and calculates the count and median salary for each skill, sorting the results in descending order by count. It then renames the columns. Calculates the percentage that each skill count represents out of the total number of Data Analyst jobs. Finally, filter out any skills that don't have any jobs associated with them."
   ]
  },
  {
   "cell_type": "code",
   "execution_count": null,
   "id": "2d73c7a1",
   "metadata": {},
   "outputs": [],
   "source": []
  },
  {
   "cell_type": "markdown",
   "id": "9006b73c",
   "metadata": {},
   "source": [
    "## Median Salary vs Percent Skill Demand"
   ]
  },
  {
   "cell_type": "markdown",
   "id": "86345c55",
   "metadata": {},
   "source": [
    "Filters for Data Analyst skills that exceed a certain percentage (skill_limit)."
   ]
  },
  {
   "cell_type": "code",
   "execution_count": null,
   "id": "c7a7df08",
   "metadata": {},
   "outputs": [],
   "source": []
  },
  {
   "cell_type": "markdown",
   "id": "78b1086b",
   "metadata": {},
   "source": [
    "Create a scatter plot to visualize the relationship between the percentage of Data Analyst jobs that require specific skills and the median salary for those skills"
   ]
  },
  {
   "cell_type": "code",
   "execution_count": null,
   "id": "a74e4a0e",
   "metadata": {},
   "outputs": [],
   "source": []
  },
  {
   "cell_type": "markdown",
   "id": "c6975f70",
   "metadata": {},
   "source": [
    "## Bonus: Coloring by Technology"
   ]
  },
  {
   "cell_type": "markdown",
   "id": "8756efd2",
   "metadata": {},
   "source": [
    "We're going to add color labels based on technology.\n",
    "\n",
    "Removes duplicate entries and any rows with missing values. Then, it combines all dictionary entries into a single dictionary, summing values for keys that repeat across entries. To ensure each key's values are unique, it converts the values to a set and then back to a list. The final result is a dictionary where each key represents a skill and each value is a list of unique attributes associated with that skill."
   ]
  },
  {
   "cell_type": "code",
   "execution_count": null,
   "id": "d8954944",
   "metadata": {},
   "outputs": [],
   "source": []
  },
  {
   "cell_type": "markdown",
   "id": "d5bd8021",
   "metadata": {},
   "source": [
    "This code converts a dictionary into a pandas DataFrame, then explodes the 'skills' column, creating multiple rows for each 'technology' entry if it contains multiple skills."
   ]
  },
  {
   "cell_type": "code",
   "execution_count": null,
   "id": "af528f79",
   "metadata": {},
   "outputs": [],
   "source": []
  },
  {
   "cell_type": "markdown",
   "id": "780013c5",
   "metadata": {},
   "source": [
    "Merges two DataFrames, df_DA_skills and df_technology, based on the columns 'job_skills' and 'skills' respectively, creating a new DataFrame df_DA_skills_tech."
   ]
  },
  {
   "cell_type": "code",
   "execution_count": null,
   "id": "7cc61f19",
   "metadata": {},
   "outputs": [],
   "source": []
  },
  {
   "cell_type": "markdown",
   "id": "4950d03b",
   "metadata": {},
   "source": [
    "Filters df_DA_skills_tech to select rows where the 'percent' column exceeds a specified threshold, storing the result in df_DA_skills_tech_high_demand."
   ]
  },
  {
   "cell_type": "code",
   "execution_count": null,
   "id": "26ba3ad9",
   "metadata": {},
   "outputs": [],
   "source": []
  },
  {
   "cell_type": "markdown",
   "id": "59beb2ec",
   "metadata": {},
   "source": [
    "Plot the results in a scatter plot, coloring the points based on the 'technology' column."
   ]
  },
  {
   "cell_type": "code",
   "execution_count": null,
   "id": "1d862c73",
   "metadata": {},
   "outputs": [],
   "source": []
  }
 ],
 "metadata": {
  "kernelspec": {
   "display_name": "python_project",
   "language": "python",
   "name": "python3"
  },
  "language_info": {
   "codemirror_mode": {
    "name": "ipython",
    "version": 3
   },
   "file_extension": ".py",
   "mimetype": "text/x-python",
   "name": "python",
   "nbconvert_exporter": "python",
   "pygments_lexer": "ipython3",
   "version": "3.13.5"
  }
 },
 "nbformat": 4,
 "nbformat_minor": 5
}
