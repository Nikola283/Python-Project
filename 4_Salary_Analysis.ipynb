{
 "cells": [
  {
   "cell_type": "markdown",
   "id": "8c5365c2",
   "metadata": {},
   "source": [
    "# How well do jobs and skills pay for Data Analysts?"
   ]
  },
  {
   "cell_type": "markdown",
   "id": "b81bd5d0",
   "metadata": {},
   "source": [
    "### Methodology\n",
    "\n",
    "1. Evaluate median salary for top 6 data jobs\n",
    "2. Find median salary per skill for Data Analysts\n",
    "3. Visualize for highest paying skills and most demanded skills"
   ]
  },
  {
   "cell_type": "markdown",
   "id": "4a3c321c",
   "metadata": {},
   "source": [
    "## Import Libraries and Data"
   ]
  },
  {
   "cell_type": "code",
   "execution_count": 1,
   "id": "fe250852",
   "metadata": {},
   "outputs": [],
   "source": [
    "# Importing Libraries\n",
    "import ast\n",
    "import pandas as pd\n",
    "import seaborn as sns\n",
    "from datasets import load_dataset\n",
    "import matplotlib.pyplot as plt  \n",
    "\n",
    "# Loading Data\n",
    "dataset = load_dataset('lukebarousse/data_jobs')\n",
    "df = dataset['train'].to_pandas()\n",
    "\n",
    "# Data Cleanup\n",
    "df['job_posted_date'] = pd.to_datetime(df['job_posted_date'])\n",
    "df['job_skills'] = df['job_skills'].apply(lambda x: ast.literal_eval(x) if pd.notna(x) else x)"
   ]
  },
  {
   "cell_type": "markdown",
   "id": "6fc1bde0",
   "metadata": {},
   "source": [
    "## Salary Distribution by Job Title\n"
   ]
  },
  {
   "cell_type": "markdown",
   "id": "8ad9b5f6",
   "metadata": {},
   "source": [
    "Filter our data to only include salary values from the United States."
   ]
  },
  {
   "cell_type": "code",
   "execution_count": null,
   "id": "9e95a2c5",
   "metadata": {},
   "outputs": [],
   "source": []
  },
  {
   "cell_type": "markdown",
   "id": "ec527115",
   "metadata": {},
   "source": [
    "Create a list of the main job_titles in our dataset and filter our dataframe to only contain these job titles."
   ]
  },
  {
   "cell_type": "code",
   "execution_count": null,
   "id": "d04b07dc",
   "metadata": {},
   "outputs": [],
   "source": []
  },
  {
   "cell_type": "markdown",
   "id": "05cb18b5",
   "metadata": {},
   "source": [
    "## Plot Salary Distributions"
   ]
  },
  {
   "cell_type": "markdown",
   "id": "0245aae7",
   "metadata": {},
   "source": [
    "Plot the top 6 job titles salary distributions using a box plot."
   ]
  },
  {
   "cell_type": "code",
   "execution_count": null,
   "id": "f83b807e",
   "metadata": {},
   "outputs": [],
   "source": []
  },
  {
   "cell_type": "markdown",
   "id": "39f04c9c",
   "metadata": {},
   "source": [
    "## Investigate Median Salary Vs Skill for Data Analysts"
   ]
  },
  {
   "cell_type": "markdown",
   "id": "a6c02618",
   "metadata": {},
   "source": [
    "Filters the original dataset to only get rows where the job title is 'Data Analyst' and the country is 'United States', to create a new DataFrame df_DA_US. Drop NaN values from the 'salary_year_avg' column. Then it uses the explode method on the job_skills column to create a new row in the DataFrame for each skill associated with a job. Finally, it displays the first five entries of the salary_year_avg and job_skills columns."
   ]
  },
  {
   "cell_type": "code",
   "execution_count": null,
   "id": "4decc5fb",
   "metadata": {},
   "outputs": [],
   "source": []
  },
  {
   "cell_type": "markdown",
   "id": "af0845ae",
   "metadata": {},
   "source": [
    "## Determine The Highest Paid Skills and Most Demanded Skills"
   ]
  },
  {
   "cell_type": "markdown",
   "id": "4243ab39",
   "metadata": {},
   "source": [
    "Gets the top ten highest-paying skills for Data Analysts by calculating the median salary for each skill listed in the df_DA_US. It groups the data by job skills, computes the median salary, sorts these values in descending order by median, and then selects the top 10. This is then formatted into a new DataFrame (df_DA_top_pay) with a reset index and a renamed salary column labeled 'median_salary'."
   ]
  },
  {
   "cell_type": "code",
   "execution_count": null,
   "id": "532cec50",
   "metadata": {},
   "outputs": [],
   "source": []
  },
  {
   "cell_type": "markdown",
   "id": "36d9489b",
   "metadata": {},
   "source": [
    "Calculates the count and median salary for each skill in df_DA_US. It groups the data by job_skills, aggregates it to find the count and median salary for each skill, and then sorts the results by count in descending order by count. It re-sorts this subset by median salary in descending order."
   ]
  },
  {
   "cell_type": "code",
   "execution_count": null,
   "id": "cebbfa88",
   "metadata": {},
   "outputs": [],
   "source": []
  },
  {
   "cell_type": "markdown",
   "id": "e432c701",
   "metadata": {},
   "source": [
    "Creates two horizontal bar charts:\n",
    " 1. Displays the highest paid skills\n",
    " 2. Shows the most in demand skills"
   ]
  },
  {
   "cell_type": "code",
   "execution_count": null,
   "id": "261d9c47",
   "metadata": {},
   "outputs": [],
   "source": []
  }
 ],
 "metadata": {
  "kernelspec": {
   "display_name": "python_project",
   "language": "python",
   "name": "python3"
  },
  "language_info": {
   "codemirror_mode": {
    "name": "ipython",
    "version": 3
   },
   "file_extension": ".py",
   "mimetype": "text/x-python",
   "name": "python",
   "nbconvert_exporter": "python",
   "pygments_lexer": "ipython3",
   "version": "3.13.5"
  }
 },
 "nbformat": 4,
 "nbformat_minor": 5
}
